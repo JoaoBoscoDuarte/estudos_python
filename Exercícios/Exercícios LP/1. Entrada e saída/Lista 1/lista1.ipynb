{
 "cells": [
  {
   "cell_type": "markdown",
   "metadata": {},
   "source": [
    "1. A biblioteca de Rio Tinto empresta gratuitamente seus livros a alunos, professores e funcionários de todo o campus. Entretanto, sempre que um usuário atrasa a entrega de um livro, ele tem que pagar uma multa de R$ 2,50 por cada dia de atraso. Escreva um programa que receba como entrada a quantidade de dias de atraso do empréstimo de um livro, e exiba o valor da multa a ser paga pelo usuário (com duas casas decimais)."
   ]
  },
  {
   "cell_type": "code",
   "execution_count": null,
   "metadata": {},
   "outputs": [],
   "source": [
    "multa = 2.5\n",
    "quantDias = int(input(\"Insira a quantidade de dias: \"))\n",
    "calculo = multa * quantDias\n",
    "print(f\"O valor a ser pagom é: {calculo:.2f}\")"
   ]
  },
  {
   "cell_type": "markdown",
   "metadata": {},
   "source": [
    "2. Sabendo que a Copiadora de Rio Tinto cobra R$ 0,15 por cada cópia feita, escreva um programa que receba como entrada a quantidade de folhas de um livro e exiba o valor total a ser pago para copiá-lo (com duas casas decimais). Lembrete: cada folha corresponde a duas páginas – frente e verso"
   ]
  },
  {
   "cell_type": "code",
   "execution_count": 3,
   "metadata": {},
   "outputs": [
    {
     "name": "stdout",
     "output_type": "stream",
     "text": [
      "O valor a ser pago é R$: 30.0\n"
     ]
    }
   ],
   "source": [
    "copia = 0.15\n",
    "folhas = int(input(\"Insira a quantidade de folhas: \"))\n",
    "calculo = folhas * 2 * copia\n",
    "print(f\"O valor a ser pago é R$: {calculo:.2f}\")"
   ]
  }
 ],
 "metadata": {
  "kernelspec": {
   "display_name": "Python 3",
   "language": "python",
   "name": "python3"
  },
  "language_info": {
   "codemirror_mode": {
    "name": "ipython",
    "version": 3
   },
   "file_extension": ".py",
   "mimetype": "text/x-python",
   "name": "python",
   "nbconvert_exporter": "python",
   "pygments_lexer": "ipython3",
   "version": "3.12.4"
  }
 },
 "nbformat": 4,
 "nbformat_minor": 2
}
