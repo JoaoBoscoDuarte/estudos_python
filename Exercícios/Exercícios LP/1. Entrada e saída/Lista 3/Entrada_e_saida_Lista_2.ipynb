{
 "cells": [
  {
   "cell_type": "markdown",
   "metadata": {
    "id": "pQ6unnlcpFzs"
   },
   "source": [
    "1. O doutor Jonas Gutierrez é cardiologista e atende diversos pacientes. Ele recebe R\\$170 por cada consulta realizada por convênio, e R$ 310 por consulta particular. Escreva um programa que receba como entrada quantas consultas de convênio e quantas consultas particulares ele realizou em uma semana, e exiba o valor total recebido por ele."
   ]
  },
  {
   "cell_type": "code",
   "execution_count": null,
   "metadata": {
    "id": "MnXncEMSpKnI"
   },
   "outputs": [],
   "source": [
    "valorParticular = 310\n",
    "valorConvenio = 170\n",
    "\n",
    "particular = int(input(\"Insira a quantidade de consultas particular: \"))\n",
    "convenio = int(input(\"Insira a quantidade de consultadas por convênio: \"))\n",
    "\n",
    "print(f\"Valor consultas por convênio: {convenio * valorConvenio:.2f}; valor consultas particular: {particular * valorParticular:.2f}; Total: {(convenio * valorConvenio) + (particular * valorParticular)}\")"
   ]
  },
  {
   "cell_type": "markdown",
   "metadata": {
    "id": "-Jby-QeWsnNT"
   },
   "source": [
    "2. Todos os anos, os motoristas devem pagar ao Detran o IPVA (Imposto sobre a Propriedade de\n",
    "Veículos Automotores) e uma taxa de trânsito. Caso paguem o IPVA com antecedência, recebem um\n",
    "desconto de 5% apenas no valor desse imposto. Escreva um programa que receba como entrada o\n",
    "valor do IPVA e o valor da taxa de trânsito, e exiba o total a ser pago por um motorista que deseja\n",
    "quitar sua dívida cinco dias antes do prazo."
   ]
  },
  {
   "cell_type": "code",
   "execution_count": null,
   "metadata": {
    "id": "KsgSTM9DsriA"
   },
   "outputs": [],
   "source": [
    "desconto = 0.95\n",
    "\n",
    "valorIpva = int(input(\"Insira o valor do ipva: \"))\n",
    "valorTaxaTransito = int(input(\"Insira o valor da taxa de Transito: \"))\n",
    "\n",
    "calculo = desconto * valorIpva + valorTaxaTransito\n",
    "\n",
    "print(f\"O valor a ser pago é: {calculo:.2f}\")"
   ]
  },
  {
   "cell_type": "markdown",
   "metadata": {
    "id": "QhsimPtkuyIl"
   },
   "source": [
    "3. Regiane vai comemorar o aniversário de seu filho e precisa encomendar docinhos. Cada brigadeiro custa R\\$ 1,90 e cada beijinho custa R$ 1,70. Escreva um programa que receba como entrada a quantidade de brigadeiros e de beijinhos pedidos, e também a quantidade de crianças convidadas, e exiba o valor total gasto, e a quantidade total de docinhos que cada criança vai comer."
   ]
  },
  {
   "cell_type": "code",
   "execution_count": null,
   "metadata": {
    "id": "kuO_ngoVu5rW"
   },
   "outputs": [],
   "source": [
    "brigadeiro = 1.90\n",
    "beijinho = 1.70\n",
    "\n",
    "quantBrigadeiro = int(input(\"Insira a quantidade de brigadeiros: \"))\n",
    "quantBeijinho = int(input(\"Insira a quantidade de beijinhos: \"))\n",
    "quantCrianca = int(input(\"Insira a quantidade de guris: \"))\n",
    "docePorCrianca = (quantBrigadeiro + quantBeijinho) // quantCrianca\n",
    "\n",
    "print(f\"O valor total é: {float((quantBrigadeiro * brigadeiro)) + float((quantBeijinho * beijinho))}; cada criança irá comer {docePorCrianca} doces\")"
   ]
  },
  {
   "cell_type": "markdown",
   "metadata": {},
   "source": [
    "4. Um restaurante self-service de Rio Tinto cobra R$ 40 por quilo nas refeições. Sabendo que, na hora de determinar o valor da refeição, deve ser desconsiderado o peso do prato vazio (230 gramas), escreva um programa que receba como entrada o peso total do prato de um cliente em gramas e exiba o preço cobrado (com duas casas decimais). (Lembrete: 1 quilo = 1000 gramas)"
   ]
  },
  {
   "cell_type": "code",
   "execution_count": null,
   "metadata": {
    "id": "RmPyFOTsxfWk",
    "scrolled": true
   },
   "outputs": [],
   "source": [
    "quilo = 40\n",
    "pesoPrato = 230\n",
    "\n",
    "pesoComida = int(input(\"Insira o peso do seu prato em gramas: \"))\n",
    "pesoBruto = pesoComida - pesoPrato\n",
    "calculo = (pesoBruto * quilo)/1000\n",
    "\n",
    "print(f\"O valor a ser pago: {calculo:.2f}\")"
   ]
  },
  {
   "cell_type": "markdown",
   "metadata": {},
   "source": [
    "5. Betina trabalha em um escritório de advocacia e todos os dias analisa vários processos. Sabendo que ela cumpre um expediente diário de 8h, escreva um programa que receba como entrada quantos minutos ela leva para analisar cada processo, e exiba o total de processos revisados em um dia de trabalho. (Dica: Uma hora tem 60 minutos, e considere que um processo não pode ser analisado parcialmente, apenas totalmente)"
   ]
  },
  {
   "cell_type": "code",
   "execution_count": 1,
   "metadata": {},
   "outputs": [
    {
     "name": "stdout",
     "output_type": "stream",
     "text": [
      "A quantidade de processos é: 24\n"
     ]
    }
   ],
   "source": [
    "expediente = 8 * 60\n",
    "minutos = int(input(\"Insira o tempo em minutos levado para analisar cada processo: \"))\n",
    "totalProcessos = expediente // minutos\n",
    "\n",
    "print(f\"A quantidade de processos é: {totalProcessos}\")"
   ]
  },
  {
   "cell_type": "markdown",
   "metadata": {},
   "source": [
    "6. Otávio resolveu organizar um churrasco para comemorar seu aniversário. A estimativa é que cada\n",
    "pessoa consuma 400 gramas de carne e 6 latas de cerveja. Pelas pesquisas que ele fez no\n",
    "supermercado de seu bairro, o quilo de carne custará R$ 41 e cada cerveja sairá por R$ 5,20.\n",
    "Escreva um programa que receba como entrada a quantidade de pessoas que irão para o churrasco\n",
    "e exiba o valor total que ele gastará com carne e com cerveja. Os valores devem ser exibidos com\n",
    "duas casas decimais."
   ]
  },
  {
   "cell_type": "code",
   "execution_count": 5,
   "metadata": {},
   "outputs": [
    {
     "name": "stdout",
     "output_type": "stream",
     "text": [
      "O valor total é: 3.1e+02\n"
     ]
    }
   ],
   "source": [
    "quiloCarne = 41\n",
    "unidadeCerveja = 5.20\n",
    "carnePessoa = 400\n",
    "cervejaPessoa = 6\n",
    "\n",
    "quantPessoas = int(input(\"Insira a quantidade de pessoas: \"))\n",
    "valorCerveja = (quantPessoas * cervejaPessoa) * unidadeCerveja\n",
    "valorCarne = (quantPessoas * quiloCarne)/400\n",
    "total = valorCarne + valorCerveja\n",
    "\n",
    "print(f\"O valor total é: {total:.2}\")"
   ]
  }
 ],
 "metadata": {
  "colab": {
   "provenance": []
  },
  "kernelspec": {
   "display_name": "Python 3 (ipykernel)",
   "language": "python",
   "name": "python3"
  },
  "language_info": {
   "codemirror_mode": {
    "name": "ipython",
    "version": 3
   },
   "file_extension": ".py",
   "mimetype": "text/x-python",
   "name": "python",
   "nbconvert_exporter": "python",
   "pygments_lexer": "ipython3",
   "version": "3.12.4"
  }
 },
 "nbformat": 4,
 "nbformat_minor": 4
}
