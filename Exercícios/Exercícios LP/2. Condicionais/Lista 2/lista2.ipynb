{
 "cells": [
  {
   "cell_type": "markdown",
   "metadata": {},
   "source": [
    "1. Escreva um programa que receba como entrada um número e exiba uma mensagem informando se ele é positivo, negativo ou neutro. Lembrete: Os números maiores que zero são chamados de positivos, enquanto os números menores que zero são os negativos. Zero é um número neutro."
   ]
  },
  {
   "cell_type": "code",
   "execution_count": null,
   "metadata": {
    "vscode": {
     "languageId": "plaintext"
    }
   },
   "outputs": [],
   "source": [
    "entrada = int(input(\"insira um número inteiro: \"))\n",
    "\n",
    "if (entrada > 0):\n",
    "  print(\"Esse número é positivo\")\n",
    "\n",
    "elif entrada < 0:\n",
    "  print(\"Esse número é negativo\")\n",
    "\n",
    "else:\n",
    "  print(\"Esse número é neutro\")"
   ]
  },
  {
   "cell_type": "markdown",
   "metadata": {},
   "source": [
    "2. Escreva um programa que receba como entrada um número e exiba uma mensagem informando se ele é par ou ímpar. Lembrete: Um número é par se for divisível por dois, ou seja, se na divisão inteira por dois o resto for zero. Caso contrário, ele será ímpar."
   ]
  },
  {
   "cell_type": "code",
   "execution_count": null,
   "metadata": {
    "vscode": {
     "languageId": "plaintext"
    }
   },
   "outputs": [],
   "source": [
    "entrada = float(input(\"insira um número inteiro: \"))\n",
    "\n",
    "if (entrada != 0):\n",
    "  if (entrada % 2 == 0):\n",
    "    print(\"É um número par\")\n",
    "\n",
    "  else:\n",
    "    print(\"É um número impar\")\n",
    "\n",
    "else:\n",
    "  print(\"Zero é um elemento neutro\")"
   ]
  },
  {
   "cell_type": "markdown",
   "metadata": {},
   "source": [
    "3. Escreva um programa que receba como entrada três números e exiba uma mensagem informando qual é o maior deles. (Dica: desconsidere a entrada de números iguais)"
   ]
  },
  {
   "cell_type": "code",
   "execution_count": null,
   "metadata": {
    "vscode": {
     "languageId": "plaintext"
    }
   },
   "outputs": [],
   "source": [
    "entrada1 = float(input(\"insira o seu primeiro número: \"))\n",
    "entrada2 = float(input(\"insira o seu segundo número: \"))\n",
    "entrada3 = float(input(\"insira o seu terceiro número: \"))\n",
    "\n",
    "maiorNumero = 0\n",
    "\n",
    "if (entrada1 > entrada2) and (entrada1> entrada3):\n",
    "  print(f\"O amior número é: {entrada1}\")\n",
    "\n",
    "elif (entrada2 > entrada1 and entrada2> entrada3):\n",
    "  print(f\"O amior número é: {entrada2}\")\n",
    "\n",
    "else:\n",
    "  print(f\"O maio número é o {entrada3}\")"
   ]
  }
 ],
 "metadata": {
  "language_info": {
   "name": "python"
  }
 },
 "nbformat": 4,
 "nbformat_minor": 2
}
